{
 "cells": [
  {
   "attachments": {},
   "cell_type": "markdown",
   "metadata": {},
   "source": [
    "### Modelling\n",
    "We'll follow below steps:\n",
    "1. Split data\n",
    "2. Apply linear lasso regression\n",
    "3. Apply linear ridge regression\n",
    "4. Apply linaer elastic net regression\n",
    "5. Apply support vector regression\n",
    "6. Apply decision tree regression\n",
    "7. Apply random forest regression\n",
    "8. We'll perform CV on the best performing model\n",
    "9. Save the model\n"
   ]
  },
  {
   "cell_type": "code",
   "execution_count": null,
   "metadata": {},
   "outputs": [],
   "source": [
    "# Imports \n",
    "import pandas as pd\n",
    "import numpy as np\n",
    "from sklearn.s"
   ]
  }
 ],
 "metadata": {
  "language_info": {
   "name": "python"
  },
  "orig_nbformat": 4
 },
 "nbformat": 4,
 "nbformat_minor": 2
}
